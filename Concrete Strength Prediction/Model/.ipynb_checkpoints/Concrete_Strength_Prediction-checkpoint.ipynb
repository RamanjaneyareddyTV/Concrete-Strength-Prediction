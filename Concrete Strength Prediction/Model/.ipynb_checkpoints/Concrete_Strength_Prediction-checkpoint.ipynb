{
 "cells": [
  {
   "cell_type": "markdown",
   "metadata": {
    "id": "iMyUVd7ZZpRJ"
   },
   "source": [
    "# **Concrete Strength Prediction**\n",
    "For concrete strength prediction here we have used 3 algorithms:\n",
    "\n",
    "1.Linear Regression\n",
    "\n",
    "2.Decision Tree Regressor\n",
    "\n",
    "3.Random Forest Regressor\n",
    "\n",
    "By using the above algorithms, we will train our model by providing training data and once the model will be trained, we will perform prediction.\n",
    "After prediction, we will evaluate the performance of these algorithmns by error check and accuracy check.\n"
   ]
  },
  {
   "cell_type": "markdown",
   "metadata": {
    "id": "P11e-eodaxmo"
   },
   "source": [
    "### Steps been followed are as:\n",
    "Step 1:Data Preprocessing\n",
    "\n",
    "Step 2: Data training\n",
    "\n",
    "Step 3: Model Creation\n",
    "\n",
    "Step 4: Performance Evaluation\n",
    "\n"
   ]
  },
  {
   "cell_type": "markdown",
   "metadata": {
    "id": "ejLqO2KWcewH"
   },
   "source": [
    "## Step 1- Data Preprocessing:"
   ]
  },
  {
   "cell_type": "code",
   "execution_count": 1,
   "metadata": {
    "id": "CSgZXFW5tiNO"
   },
   "outputs": [],
   "source": [
    "#importing pandas library to read data.\n",
    "import pandas as pd"
   ]
  },
  {
   "cell_type": "code",
   "execution_count": 2,
   "metadata": {
    "colab": {
     "base_uri": "https://localhost:8080/",
     "height": 422
    },
    "id": "Gc4QVkUttrv6",
    "outputId": "d2995583-4ef5-44a7-dd92-e7a74bcde383"
   },
   "outputs": [
    {
     "data": {
      "text/html": [
       "<div>\n",
       "<style scoped>\n",
       "    .dataframe tbody tr th:only-of-type {\n",
       "        vertical-align: middle;\n",
       "    }\n",
       "\n",
       "    .dataframe tbody tr th {\n",
       "        vertical-align: top;\n",
       "    }\n",
       "\n",
       "    .dataframe thead th {\n",
       "        text-align: right;\n",
       "    }\n",
       "</style>\n",
       "<table border=\"1\" class=\"dataframe\">\n",
       "  <thead>\n",
       "    <tr style=\"text-align: right;\">\n",
       "      <th></th>\n",
       "      <th>Cement</th>\n",
       "      <th>Blast Furnace Slag</th>\n",
       "      <th>Fly Ash</th>\n",
       "      <th>Water</th>\n",
       "      <th>Superplasticizer</th>\n",
       "      <th>Coarse Aggregate</th>\n",
       "      <th>Fine Aggregate</th>\n",
       "      <th>Age</th>\n",
       "      <th>Strength</th>\n",
       "    </tr>\n",
       "  </thead>\n",
       "  <tbody>\n",
       "    <tr>\n",
       "      <th>0</th>\n",
       "      <td>540.0</td>\n",
       "      <td>0.0</td>\n",
       "      <td>0.0</td>\n",
       "      <td>162.0</td>\n",
       "      <td>2.5</td>\n",
       "      <td>1040.0</td>\n",
       "      <td>676.0</td>\n",
       "      <td>28</td>\n",
       "      <td>79.99</td>\n",
       "    </tr>\n",
       "    <tr>\n",
       "      <th>1</th>\n",
       "      <td>540.0</td>\n",
       "      <td>0.0</td>\n",
       "      <td>0.0</td>\n",
       "      <td>162.0</td>\n",
       "      <td>2.5</td>\n",
       "      <td>1055.0</td>\n",
       "      <td>676.0</td>\n",
       "      <td>28</td>\n",
       "      <td>61.89</td>\n",
       "    </tr>\n",
       "    <tr>\n",
       "      <th>2</th>\n",
       "      <td>332.5</td>\n",
       "      <td>142.5</td>\n",
       "      <td>0.0</td>\n",
       "      <td>228.0</td>\n",
       "      <td>0.0</td>\n",
       "      <td>932.0</td>\n",
       "      <td>594.0</td>\n",
       "      <td>270</td>\n",
       "      <td>40.27</td>\n",
       "    </tr>\n",
       "    <tr>\n",
       "      <th>3</th>\n",
       "      <td>332.5</td>\n",
       "      <td>142.5</td>\n",
       "      <td>0.0</td>\n",
       "      <td>228.0</td>\n",
       "      <td>0.0</td>\n",
       "      <td>932.0</td>\n",
       "      <td>594.0</td>\n",
       "      <td>365</td>\n",
       "      <td>41.05</td>\n",
       "    </tr>\n",
       "    <tr>\n",
       "      <th>4</th>\n",
       "      <td>198.6</td>\n",
       "      <td>132.4</td>\n",
       "      <td>0.0</td>\n",
       "      <td>192.0</td>\n",
       "      <td>0.0</td>\n",
       "      <td>978.4</td>\n",
       "      <td>825.5</td>\n",
       "      <td>360</td>\n",
       "      <td>44.30</td>\n",
       "    </tr>\n",
       "    <tr>\n",
       "      <th>...</th>\n",
       "      <td>...</td>\n",
       "      <td>...</td>\n",
       "      <td>...</td>\n",
       "      <td>...</td>\n",
       "      <td>...</td>\n",
       "      <td>...</td>\n",
       "      <td>...</td>\n",
       "      <td>...</td>\n",
       "      <td>...</td>\n",
       "    </tr>\n",
       "    <tr>\n",
       "      <th>1025</th>\n",
       "      <td>276.4</td>\n",
       "      <td>116.0</td>\n",
       "      <td>90.3</td>\n",
       "      <td>179.6</td>\n",
       "      <td>8.9</td>\n",
       "      <td>870.1</td>\n",
       "      <td>768.3</td>\n",
       "      <td>28</td>\n",
       "      <td>44.28</td>\n",
       "    </tr>\n",
       "    <tr>\n",
       "      <th>1026</th>\n",
       "      <td>322.2</td>\n",
       "      <td>0.0</td>\n",
       "      <td>115.6</td>\n",
       "      <td>196.0</td>\n",
       "      <td>10.4</td>\n",
       "      <td>817.9</td>\n",
       "      <td>813.4</td>\n",
       "      <td>28</td>\n",
       "      <td>31.18</td>\n",
       "    </tr>\n",
       "    <tr>\n",
       "      <th>1027</th>\n",
       "      <td>148.5</td>\n",
       "      <td>139.4</td>\n",
       "      <td>108.6</td>\n",
       "      <td>192.7</td>\n",
       "      <td>6.1</td>\n",
       "      <td>892.4</td>\n",
       "      <td>780.0</td>\n",
       "      <td>28</td>\n",
       "      <td>23.70</td>\n",
       "    </tr>\n",
       "    <tr>\n",
       "      <th>1028</th>\n",
       "      <td>159.1</td>\n",
       "      <td>186.7</td>\n",
       "      <td>0.0</td>\n",
       "      <td>175.6</td>\n",
       "      <td>11.3</td>\n",
       "      <td>989.6</td>\n",
       "      <td>788.9</td>\n",
       "      <td>28</td>\n",
       "      <td>32.77</td>\n",
       "    </tr>\n",
       "    <tr>\n",
       "      <th>1029</th>\n",
       "      <td>260.9</td>\n",
       "      <td>100.5</td>\n",
       "      <td>78.3</td>\n",
       "      <td>200.6</td>\n",
       "      <td>8.6</td>\n",
       "      <td>864.5</td>\n",
       "      <td>761.5</td>\n",
       "      <td>28</td>\n",
       "      <td>32.40</td>\n",
       "    </tr>\n",
       "  </tbody>\n",
       "</table>\n",
       "<p>1030 rows × 9 columns</p>\n",
       "</div>"
      ],
      "text/plain": [
       "      Cement  Blast Furnace Slag  Fly Ash  Water  Superplasticizer  \\\n",
       "0      540.0                 0.0      0.0  162.0               2.5   \n",
       "1      540.0                 0.0      0.0  162.0               2.5   \n",
       "2      332.5               142.5      0.0  228.0               0.0   \n",
       "3      332.5               142.5      0.0  228.0               0.0   \n",
       "4      198.6               132.4      0.0  192.0               0.0   \n",
       "...      ...                 ...      ...    ...               ...   \n",
       "1025   276.4               116.0     90.3  179.6               8.9   \n",
       "1026   322.2                 0.0    115.6  196.0              10.4   \n",
       "1027   148.5               139.4    108.6  192.7               6.1   \n",
       "1028   159.1               186.7      0.0  175.6              11.3   \n",
       "1029   260.9               100.5     78.3  200.6               8.6   \n",
       "\n",
       "      Coarse Aggregate  Fine Aggregate  Age  Strength  \n",
       "0               1040.0           676.0   28     79.99  \n",
       "1               1055.0           676.0   28     61.89  \n",
       "2                932.0           594.0  270     40.27  \n",
       "3                932.0           594.0  365     41.05  \n",
       "4                978.4           825.5  360     44.30  \n",
       "...                ...             ...  ...       ...  \n",
       "1025             870.1           768.3   28     44.28  \n",
       "1026             817.9           813.4   28     31.18  \n",
       "1027             892.4           780.0   28     23.70  \n",
       "1028             989.6           788.9   28     32.77  \n",
       "1029             864.5           761.5   28     32.40  \n",
       "\n",
       "[1030 rows x 9 columns]"
      ]
     },
     "execution_count": 2,
     "metadata": {},
     "output_type": "execute_result"
    }
   ],
   "source": [
    "#loading data\n",
    "data=pd.read_csv('D:\\ML\\Concrete Strength Prediction\\Dataset\\concrete_data.csv')\n",
    "data"
   ]
  },
  {
   "cell_type": "code",
   "execution_count": 3,
   "metadata": {
    "colab": {
     "base_uri": "https://localhost:8080/",
     "height": 205
    },
    "id": "56g5mVssvhet",
    "outputId": "52d3b673-e9ba-42f8-ce40-237e1ecd8817"
   },
   "outputs": [
    {
     "data": {
      "text/html": [
       "<div>\n",
       "<style scoped>\n",
       "    .dataframe tbody tr th:only-of-type {\n",
       "        vertical-align: middle;\n",
       "    }\n",
       "\n",
       "    .dataframe tbody tr th {\n",
       "        vertical-align: top;\n",
       "    }\n",
       "\n",
       "    .dataframe thead th {\n",
       "        text-align: right;\n",
       "    }\n",
       "</style>\n",
       "<table border=\"1\" class=\"dataframe\">\n",
       "  <thead>\n",
       "    <tr style=\"text-align: right;\">\n",
       "      <th></th>\n",
       "      <th>Cement</th>\n",
       "      <th>Blast Furnace Slag</th>\n",
       "      <th>Fly Ash</th>\n",
       "      <th>Water</th>\n",
       "      <th>Superplasticizer</th>\n",
       "      <th>Coarse Aggregate</th>\n",
       "      <th>Fine Aggregate</th>\n",
       "      <th>Age</th>\n",
       "      <th>Strength</th>\n",
       "    </tr>\n",
       "  </thead>\n",
       "  <tbody>\n",
       "    <tr>\n",
       "      <th>0</th>\n",
       "      <td>540.0</td>\n",
       "      <td>0.0</td>\n",
       "      <td>0.0</td>\n",
       "      <td>162.0</td>\n",
       "      <td>2.5</td>\n",
       "      <td>1040.0</td>\n",
       "      <td>676.0</td>\n",
       "      <td>28</td>\n",
       "      <td>79.99</td>\n",
       "    </tr>\n",
       "    <tr>\n",
       "      <th>1</th>\n",
       "      <td>540.0</td>\n",
       "      <td>0.0</td>\n",
       "      <td>0.0</td>\n",
       "      <td>162.0</td>\n",
       "      <td>2.5</td>\n",
       "      <td>1055.0</td>\n",
       "      <td>676.0</td>\n",
       "      <td>28</td>\n",
       "      <td>61.89</td>\n",
       "    </tr>\n",
       "    <tr>\n",
       "      <th>2</th>\n",
       "      <td>332.5</td>\n",
       "      <td>142.5</td>\n",
       "      <td>0.0</td>\n",
       "      <td>228.0</td>\n",
       "      <td>0.0</td>\n",
       "      <td>932.0</td>\n",
       "      <td>594.0</td>\n",
       "      <td>270</td>\n",
       "      <td>40.27</td>\n",
       "    </tr>\n",
       "    <tr>\n",
       "      <th>3</th>\n",
       "      <td>332.5</td>\n",
       "      <td>142.5</td>\n",
       "      <td>0.0</td>\n",
       "      <td>228.0</td>\n",
       "      <td>0.0</td>\n",
       "      <td>932.0</td>\n",
       "      <td>594.0</td>\n",
       "      <td>365</td>\n",
       "      <td>41.05</td>\n",
       "    </tr>\n",
       "    <tr>\n",
       "      <th>4</th>\n",
       "      <td>198.6</td>\n",
       "      <td>132.4</td>\n",
       "      <td>0.0</td>\n",
       "      <td>192.0</td>\n",
       "      <td>0.0</td>\n",
       "      <td>978.4</td>\n",
       "      <td>825.5</td>\n",
       "      <td>360</td>\n",
       "      <td>44.30</td>\n",
       "    </tr>\n",
       "  </tbody>\n",
       "</table>\n",
       "</div>"
      ],
      "text/plain": [
       "   Cement  Blast Furnace Slag  Fly Ash  Water  Superplasticizer  \\\n",
       "0   540.0                 0.0      0.0  162.0               2.5   \n",
       "1   540.0                 0.0      0.0  162.0               2.5   \n",
       "2   332.5               142.5      0.0  228.0               0.0   \n",
       "3   332.5               142.5      0.0  228.0               0.0   \n",
       "4   198.6               132.4      0.0  192.0               0.0   \n",
       "\n",
       "   Coarse Aggregate  Fine Aggregate  Age  Strength  \n",
       "0            1040.0           676.0   28     79.99  \n",
       "1            1055.0           676.0   28     61.89  \n",
       "2             932.0           594.0  270     40.27  \n",
       "3             932.0           594.0  365     41.05  \n",
       "4             978.4           825.5  360     44.30  "
      ]
     },
     "execution_count": 3,
     "metadata": {},
     "output_type": "execute_result"
    }
   ],
   "source": [
    "#To view first 5 rows of the dataset.\n",
    "data.head()"
   ]
  },
  {
   "cell_type": "code",
   "execution_count": 4,
   "metadata": {
    "colab": {
     "base_uri": "https://localhost:8080/",
     "height": 205
    },
    "id": "rw8N69gYc1g5",
    "outputId": "53da7380-1c10-4e02-8e49-2d4f61b16092"
   },
   "outputs": [
    {
     "data": {
      "text/html": [
       "<div>\n",
       "<style scoped>\n",
       "    .dataframe tbody tr th:only-of-type {\n",
       "        vertical-align: middle;\n",
       "    }\n",
       "\n",
       "    .dataframe tbody tr th {\n",
       "        vertical-align: top;\n",
       "    }\n",
       "\n",
       "    .dataframe thead th {\n",
       "        text-align: right;\n",
       "    }\n",
       "</style>\n",
       "<table border=\"1\" class=\"dataframe\">\n",
       "  <thead>\n",
       "    <tr style=\"text-align: right;\">\n",
       "      <th></th>\n",
       "      <th>Cement</th>\n",
       "      <th>Blast Furnace Slag</th>\n",
       "      <th>Fly Ash</th>\n",
       "      <th>Water</th>\n",
       "      <th>Superplasticizer</th>\n",
       "      <th>Coarse Aggregate</th>\n",
       "      <th>Fine Aggregate</th>\n",
       "      <th>Age</th>\n",
       "      <th>Strength</th>\n",
       "    </tr>\n",
       "  </thead>\n",
       "  <tbody>\n",
       "    <tr>\n",
       "      <th>1025</th>\n",
       "      <td>276.4</td>\n",
       "      <td>116.0</td>\n",
       "      <td>90.3</td>\n",
       "      <td>179.6</td>\n",
       "      <td>8.9</td>\n",
       "      <td>870.1</td>\n",
       "      <td>768.3</td>\n",
       "      <td>28</td>\n",
       "      <td>44.28</td>\n",
       "    </tr>\n",
       "    <tr>\n",
       "      <th>1026</th>\n",
       "      <td>322.2</td>\n",
       "      <td>0.0</td>\n",
       "      <td>115.6</td>\n",
       "      <td>196.0</td>\n",
       "      <td>10.4</td>\n",
       "      <td>817.9</td>\n",
       "      <td>813.4</td>\n",
       "      <td>28</td>\n",
       "      <td>31.18</td>\n",
       "    </tr>\n",
       "    <tr>\n",
       "      <th>1027</th>\n",
       "      <td>148.5</td>\n",
       "      <td>139.4</td>\n",
       "      <td>108.6</td>\n",
       "      <td>192.7</td>\n",
       "      <td>6.1</td>\n",
       "      <td>892.4</td>\n",
       "      <td>780.0</td>\n",
       "      <td>28</td>\n",
       "      <td>23.70</td>\n",
       "    </tr>\n",
       "    <tr>\n",
       "      <th>1028</th>\n",
       "      <td>159.1</td>\n",
       "      <td>186.7</td>\n",
       "      <td>0.0</td>\n",
       "      <td>175.6</td>\n",
       "      <td>11.3</td>\n",
       "      <td>989.6</td>\n",
       "      <td>788.9</td>\n",
       "      <td>28</td>\n",
       "      <td>32.77</td>\n",
       "    </tr>\n",
       "    <tr>\n",
       "      <th>1029</th>\n",
       "      <td>260.9</td>\n",
       "      <td>100.5</td>\n",
       "      <td>78.3</td>\n",
       "      <td>200.6</td>\n",
       "      <td>8.6</td>\n",
       "      <td>864.5</td>\n",
       "      <td>761.5</td>\n",
       "      <td>28</td>\n",
       "      <td>32.40</td>\n",
       "    </tr>\n",
       "  </tbody>\n",
       "</table>\n",
       "</div>"
      ],
      "text/plain": [
       "      Cement  Blast Furnace Slag  Fly Ash  Water  Superplasticizer  \\\n",
       "1025   276.4               116.0     90.3  179.6               8.9   \n",
       "1026   322.2                 0.0    115.6  196.0              10.4   \n",
       "1027   148.5               139.4    108.6  192.7               6.1   \n",
       "1028   159.1               186.7      0.0  175.6              11.3   \n",
       "1029   260.9               100.5     78.3  200.6               8.6   \n",
       "\n",
       "      Coarse Aggregate  Fine Aggregate  Age  Strength  \n",
       "1025             870.1           768.3   28     44.28  \n",
       "1026             817.9           813.4   28     31.18  \n",
       "1027             892.4           780.0   28     23.70  \n",
       "1028             989.6           788.9   28     32.77  \n",
       "1029             864.5           761.5   28     32.40  "
      ]
     },
     "execution_count": 4,
     "metadata": {},
     "output_type": "execute_result"
    }
   ],
   "source": [
    "#To view last 5 rows of the dataset.\n",
    "data.tail()"
   ]
  },
  {
   "cell_type": "code",
   "execution_count": 5,
   "metadata": {
    "colab": {
     "base_uri": "https://localhost:8080/",
     "height": 205
    },
    "id": "-pjKEMsYvQB-",
    "outputId": "5b12560c-6351-43ba-8132-89aa2c1a53e1"
   },
   "outputs": [
    {
     "data": {
      "text/html": [
       "<div>\n",
       "<style scoped>\n",
       "    .dataframe tbody tr th:only-of-type {\n",
       "        vertical-align: middle;\n",
       "    }\n",
       "\n",
       "    .dataframe tbody tr th {\n",
       "        vertical-align: top;\n",
       "    }\n",
       "\n",
       "    .dataframe thead th {\n",
       "        text-align: right;\n",
       "    }\n",
       "</style>\n",
       "<table border=\"1\" class=\"dataframe\">\n",
       "  <thead>\n",
       "    <tr style=\"text-align: right;\">\n",
       "      <th></th>\n",
       "      <th>Cement</th>\n",
       "      <th>Blast Furnace Slag</th>\n",
       "      <th>Fly Ash</th>\n",
       "      <th>Water</th>\n",
       "      <th>Superplasticizer</th>\n",
       "      <th>Coarse Aggregate</th>\n",
       "      <th>Fine Aggregate</th>\n",
       "      <th>Age</th>\n",
       "      <th>Strength</th>\n",
       "    </tr>\n",
       "  </thead>\n",
       "  <tbody>\n",
       "    <tr>\n",
       "      <th>0</th>\n",
       "      <td>540</td>\n",
       "      <td>0</td>\n",
       "      <td>0</td>\n",
       "      <td>162</td>\n",
       "      <td>2</td>\n",
       "      <td>1040</td>\n",
       "      <td>676</td>\n",
       "      <td>28</td>\n",
       "      <td>79</td>\n",
       "    </tr>\n",
       "    <tr>\n",
       "      <th>1</th>\n",
       "      <td>540</td>\n",
       "      <td>0</td>\n",
       "      <td>0</td>\n",
       "      <td>162</td>\n",
       "      <td>2</td>\n",
       "      <td>1055</td>\n",
       "      <td>676</td>\n",
       "      <td>28</td>\n",
       "      <td>61</td>\n",
       "    </tr>\n",
       "    <tr>\n",
       "      <th>2</th>\n",
       "      <td>332</td>\n",
       "      <td>142</td>\n",
       "      <td>0</td>\n",
       "      <td>228</td>\n",
       "      <td>0</td>\n",
       "      <td>932</td>\n",
       "      <td>594</td>\n",
       "      <td>270</td>\n",
       "      <td>40</td>\n",
       "    </tr>\n",
       "    <tr>\n",
       "      <th>3</th>\n",
       "      <td>332</td>\n",
       "      <td>142</td>\n",
       "      <td>0</td>\n",
       "      <td>228</td>\n",
       "      <td>0</td>\n",
       "      <td>932</td>\n",
       "      <td>594</td>\n",
       "      <td>365</td>\n",
       "      <td>41</td>\n",
       "    </tr>\n",
       "    <tr>\n",
       "      <th>4</th>\n",
       "      <td>198</td>\n",
       "      <td>132</td>\n",
       "      <td>0</td>\n",
       "      <td>192</td>\n",
       "      <td>0</td>\n",
       "      <td>978</td>\n",
       "      <td>825</td>\n",
       "      <td>360</td>\n",
       "      <td>44</td>\n",
       "    </tr>\n",
       "  </tbody>\n",
       "</table>\n",
       "</div>"
      ],
      "text/plain": [
       "   Cement  Blast Furnace Slag  Fly Ash  Water  Superplasticizer  \\\n",
       "0     540                   0        0    162                 2   \n",
       "1     540                   0        0    162                 2   \n",
       "2     332                 142        0    228                 0   \n",
       "3     332                 142        0    228                 0   \n",
       "4     198                 132        0    192                 0   \n",
       "\n",
       "   Coarse Aggregate  Fine Aggregate  Age  Strength  \n",
       "0              1040             676   28        79  \n",
       "1              1055             676   28        61  \n",
       "2               932             594  270        40  \n",
       "3               932             594  365        41  \n",
       "4               978             825  360        44  "
      ]
     },
     "execution_count": 5,
     "metadata": {},
     "output_type": "execute_result"
    }
   ],
   "source": [
    "#converting data into int datatype to avoid errors below.\n",
    "data=data.astype(int)\n",
    "data.head()"
   ]
  },
  {
   "cell_type": "code",
   "execution_count": 6,
   "metadata": {
    "colab": {
     "base_uri": "https://localhost:8080/"
    },
    "id": "kKWeQ_zRdIHp",
    "outputId": "494bfc58-8c3d-4479-c8d0-f80e608fdc03"
   },
   "outputs": [
    {
     "name": "stdout",
     "output_type": "stream",
     "text": [
      "<class 'pandas.core.frame.DataFrame'>\n",
      "RangeIndex: 1030 entries, 0 to 1029\n",
      "Data columns (total 9 columns):\n",
      " #   Column              Non-Null Count  Dtype\n",
      "---  ------              --------------  -----\n",
      " 0   Cement              1030 non-null   int32\n",
      " 1   Blast Furnace Slag  1030 non-null   int32\n",
      " 2   Fly Ash             1030 non-null   int32\n",
      " 3   Water               1030 non-null   int32\n",
      " 4   Superplasticizer    1030 non-null   int32\n",
      " 5   Coarse Aggregate    1030 non-null   int32\n",
      " 6   Fine Aggregate      1030 non-null   int32\n",
      " 7   Age                 1030 non-null   int32\n",
      " 8   Strength            1030 non-null   int32\n",
      "dtypes: int32(9)\n",
      "memory usage: 36.3 KB\n"
     ]
    }
   ],
   "source": [
    "#To view non-null, dtype, memory usage & range of the dataset.\n",
    "data.info()"
   ]
  },
  {
   "cell_type": "code",
   "execution_count": 7,
   "metadata": {
    "colab": {
     "base_uri": "https://localhost:8080/"
    },
    "id": "7E-1s3CcdMK9",
    "outputId": "6ccd946a-2df9-44d9-f590-6eb1d87f737d"
   },
   "outputs": [
    {
     "data": {
      "text/plain": [
       "Index(['Cement', 'Blast Furnace Slag', 'Fly Ash', 'Water', 'Superplasticizer',\n",
       "       'Coarse Aggregate', 'Fine Aggregate', 'Age', 'Strength'],\n",
       "      dtype='object')"
      ]
     },
     "execution_count": 7,
     "metadata": {},
     "output_type": "execute_result"
    }
   ],
   "source": [
    "#To view different columns of the dataset.\n",
    "data.columns"
   ]
  },
  {
   "cell_type": "code",
   "execution_count": 8,
   "metadata": {
    "colab": {
     "base_uri": "https://localhost:8080/",
     "height": 299
    },
    "id": "Ct7MpNijvSmz",
    "outputId": "85528a93-3bc4-498e-c69a-e0661c73018b"
   },
   "outputs": [
    {
     "data": {
      "text/html": [
       "<div>\n",
       "<style scoped>\n",
       "    .dataframe tbody tr th:only-of-type {\n",
       "        vertical-align: middle;\n",
       "    }\n",
       "\n",
       "    .dataframe tbody tr th {\n",
       "        vertical-align: top;\n",
       "    }\n",
       "\n",
       "    .dataframe thead th {\n",
       "        text-align: right;\n",
       "    }\n",
       "</style>\n",
       "<table border=\"1\" class=\"dataframe\">\n",
       "  <thead>\n",
       "    <tr style=\"text-align: right;\">\n",
       "      <th></th>\n",
       "      <th>Cement</th>\n",
       "      <th>Blast Furnace Slag</th>\n",
       "      <th>Fly Ash</th>\n",
       "      <th>Water</th>\n",
       "      <th>Superplasticizer</th>\n",
       "      <th>Coarse Aggregate</th>\n",
       "      <th>Fine Aggregate</th>\n",
       "      <th>Age</th>\n",
       "      <th>Strength</th>\n",
       "    </tr>\n",
       "  </thead>\n",
       "  <tbody>\n",
       "    <tr>\n",
       "      <th>count</th>\n",
       "      <td>1030.000000</td>\n",
       "      <td>1030.000000</td>\n",
       "      <td>1030.000000</td>\n",
       "      <td>1030.000000</td>\n",
       "      <td>1030.000000</td>\n",
       "      <td>1030.000000</td>\n",
       "      <td>1030.000000</td>\n",
       "      <td>1030.000000</td>\n",
       "      <td>1030.000000</td>\n",
       "    </tr>\n",
       "    <tr>\n",
       "      <th>mean</th>\n",
       "      <td>280.933981</td>\n",
       "      <td>73.762136</td>\n",
       "      <td>54.046602</td>\n",
       "      <td>181.279612</td>\n",
       "      <td>5.938835</td>\n",
       "      <td>972.657282</td>\n",
       "      <td>773.300971</td>\n",
       "      <td>45.662136</td>\n",
       "      <td>35.319417</td>\n",
       "    </tr>\n",
       "    <tr>\n",
       "      <th>std</th>\n",
       "      <td>104.585096</td>\n",
       "      <td>86.170344</td>\n",
       "      <td>63.856175</td>\n",
       "      <td>21.465127</td>\n",
       "      <td>5.831214</td>\n",
       "      <td>77.707820</td>\n",
       "      <td>80.122250</td>\n",
       "      <td>63.169912</td>\n",
       "      <td>16.705298</td>\n",
       "    </tr>\n",
       "    <tr>\n",
       "      <th>min</th>\n",
       "      <td>102.000000</td>\n",
       "      <td>0.000000</td>\n",
       "      <td>0.000000</td>\n",
       "      <td>121.000000</td>\n",
       "      <td>0.000000</td>\n",
       "      <td>801.000000</td>\n",
       "      <td>594.000000</td>\n",
       "      <td>1.000000</td>\n",
       "      <td>2.000000</td>\n",
       "    </tr>\n",
       "    <tr>\n",
       "      <th>25%</th>\n",
       "      <td>192.250000</td>\n",
       "      <td>0.000000</td>\n",
       "      <td>0.000000</td>\n",
       "      <td>164.000000</td>\n",
       "      <td>0.000000</td>\n",
       "      <td>932.000000</td>\n",
       "      <td>730.500000</td>\n",
       "      <td>7.000000</td>\n",
       "      <td>23.000000</td>\n",
       "    </tr>\n",
       "    <tr>\n",
       "      <th>50%</th>\n",
       "      <td>272.500000</td>\n",
       "      <td>22.000000</td>\n",
       "      <td>0.000000</td>\n",
       "      <td>185.000000</td>\n",
       "      <td>6.000000</td>\n",
       "      <td>968.000000</td>\n",
       "      <td>779.000000</td>\n",
       "      <td>28.000000</td>\n",
       "      <td>34.000000</td>\n",
       "    </tr>\n",
       "    <tr>\n",
       "      <th>75%</th>\n",
       "      <td>350.000000</td>\n",
       "      <td>142.750000</td>\n",
       "      <td>118.000000</td>\n",
       "      <td>192.000000</td>\n",
       "      <td>10.000000</td>\n",
       "      <td>1029.000000</td>\n",
       "      <td>824.000000</td>\n",
       "      <td>56.000000</td>\n",
       "      <td>45.750000</td>\n",
       "    </tr>\n",
       "    <tr>\n",
       "      <th>max</th>\n",
       "      <td>540.000000</td>\n",
       "      <td>359.000000</td>\n",
       "      <td>200.000000</td>\n",
       "      <td>247.000000</td>\n",
       "      <td>32.000000</td>\n",
       "      <td>1145.000000</td>\n",
       "      <td>992.000000</td>\n",
       "      <td>365.000000</td>\n",
       "      <td>82.000000</td>\n",
       "    </tr>\n",
       "  </tbody>\n",
       "</table>\n",
       "</div>"
      ],
      "text/plain": [
       "            Cement  Blast Furnace Slag      Fly Ash        Water  \\\n",
       "count  1030.000000         1030.000000  1030.000000  1030.000000   \n",
       "mean    280.933981           73.762136    54.046602   181.279612   \n",
       "std     104.585096           86.170344    63.856175    21.465127   \n",
       "min     102.000000            0.000000     0.000000   121.000000   \n",
       "25%     192.250000            0.000000     0.000000   164.000000   \n",
       "50%     272.500000           22.000000     0.000000   185.000000   \n",
       "75%     350.000000          142.750000   118.000000   192.000000   \n",
       "max     540.000000          359.000000   200.000000   247.000000   \n",
       "\n",
       "       Superplasticizer  Coarse Aggregate  Fine Aggregate          Age  \\\n",
       "count       1030.000000       1030.000000     1030.000000  1030.000000   \n",
       "mean           5.938835        972.657282      773.300971    45.662136   \n",
       "std            5.831214         77.707820       80.122250    63.169912   \n",
       "min            0.000000        801.000000      594.000000     1.000000   \n",
       "25%            0.000000        932.000000      730.500000     7.000000   \n",
       "50%            6.000000        968.000000      779.000000    28.000000   \n",
       "75%           10.000000       1029.000000      824.000000    56.000000   \n",
       "max           32.000000       1145.000000      992.000000   365.000000   \n",
       "\n",
       "          Strength  \n",
       "count  1030.000000  \n",
       "mean     35.319417  \n",
       "std      16.705298  \n",
       "min       2.000000  \n",
       "25%      23.000000  \n",
       "50%      34.000000  \n",
       "75%      45.750000  \n",
       "max      82.000000  "
      ]
     },
     "execution_count": 8,
     "metadata": {},
     "output_type": "execute_result"
    }
   ],
   "source": [
    "#to view statistical summary of all numerical columns of the dataset.\n",
    "data.describe()"
   ]
  },
  {
   "cell_type": "code",
   "execution_count": 9,
   "metadata": {
    "colab": {
     "base_uri": "https://localhost:8080/"
    },
    "id": "gVMbMSG6duDz",
    "outputId": "73de5742-fae2-410d-930e-451494ccaf36"
   },
   "outputs": [
    {
     "data": {
      "text/plain": [
       "Cement                0\n",
       "Blast Furnace Slag    0\n",
       "Fly Ash               0\n",
       "Water                 0\n",
       "Superplasticizer      0\n",
       "Coarse Aggregate      0\n",
       "Fine Aggregate        0\n",
       "Age                   0\n",
       "Strength              0\n",
       "dtype: int64"
      ]
     },
     "execution_count": 9,
     "metadata": {},
     "output_type": "execute_result"
    }
   ],
   "source": [
    "#check for any null values in the dataset.\n",
    "data.isnull().sum()"
   ]
  },
  {
   "cell_type": "code",
   "execution_count": 10,
   "metadata": {
    "colab": {
     "base_uri": "https://localhost:8080/"
    },
    "id": "pdoeg59_d6Ol",
    "outputId": "97872130-83bd-49b4-fc72-1eb73e227102"
   },
   "outputs": [
    {
     "data": {
      "text/plain": [
       "0"
      ]
     },
     "execution_count": 10,
     "metadata": {},
     "output_type": "execute_result"
    }
   ],
   "source": [
    "data.isnull().sum().sum()"
   ]
  },
  {
   "cell_type": "markdown",
   "metadata": {
    "id": "7llZrZOHmiHK"
   },
   "source": [
    "The data is clean i.e. no missing or inappropriate values found."
   ]
  },
  {
   "cell_type": "markdown",
   "metadata": {
    "id": "OuyXS5tJePtf"
   },
   "source": [
    "## Step 2 Data training:"
   ]
  },
  {
   "cell_type": "code",
   "execution_count": 11,
   "metadata": {
    "id": "qd1hWQt1tzY4"
   },
   "outputs": [],
   "source": [
    "# Import train_test_split from sklearn.model_selection\n",
    "from sklearn.model_selection import train_test_split\n",
    "# Here, X is the data which will have features and y will have our target i.e. strength.\n",
    "X=data[['Cement', 'Blast Furnace Slag', 'Fly Ash', 'Water', 'Superplasticizer',\n",
    "       'Coarse Aggregate', 'Fine Aggregate', 'Age']]  \n",
    "y=data['Strength']"
   ]
  },
  {
   "cell_type": "code",
   "execution_count": 12,
   "metadata": {
    "id": "r1SYN2BWovtU"
   },
   "outputs": [],
   "source": [
    "# Split data into training data and testing data\n",
    "X_train, X_test, y_train, y_test = train_test_split(X, y, test_size=0.2,random_state=500) \n",
    "#Ratio used for splitting training and testing data is 8:2 respectively."
   ]
  },
  {
   "cell_type": "code",
   "execution_count": 13,
   "metadata": {
    "colab": {
     "base_uri": "https://localhost:8080/"
    },
    "id": "zZE7jVCIkibx",
    "outputId": "da8664c4-d9d0-41bd-afe1-a343e2cb6ddd"
   },
   "outputs": [
    {
     "data": {
      "text/plain": [
       "824"
      ]
     },
     "execution_count": 13,
     "metadata": {},
     "output_type": "execute_result"
    }
   ],
   "source": [
    "#to view length of training data.\n",
    "len(X_train)"
   ]
  },
  {
   "cell_type": "code",
   "execution_count": 14,
   "metadata": {
    "colab": {
     "base_uri": "https://localhost:8080/"
    },
    "id": "YQsQGKwQRQIo",
    "outputId": "f397b61e-d01a-4639-f1c3-9586fb383cb2"
   },
   "outputs": [
    {
     "data": {
      "text/plain": [
       "206"
      ]
     },
     "execution_count": 14,
     "metadata": {},
     "output_type": "execute_result"
    }
   ],
   "source": [
    "#to view length of testing data.\n",
    "len(X_test)"
   ]
  },
  {
   "cell_type": "markdown",
   "metadata": {
    "id": "vOoYkM_IfJjm"
   },
   "source": [
    "## Step 3- Model Creation:"
   ]
  },
  {
   "cell_type": "markdown",
   "metadata": {
    "id": "DjUIl0wbfT85"
   },
   "source": [
    "### **Linear Regression**"
   ]
  },
  {
   "cell_type": "code",
   "execution_count": 15,
   "metadata": {
    "id": "Q1RhXPyOjBdB"
   },
   "outputs": [],
   "source": [
    "# Importing linear regression model\n",
    "from sklearn.linear_model import LinearRegression \n",
    "reg1 = LinearRegression()"
   ]
  },
  {
   "cell_type": "code",
   "execution_count": 16,
   "metadata": {
    "colab": {
     "base_uri": "https://localhost:8080/"
    },
    "id": "JRYaM1mkflQj",
    "outputId": "165c9bc5-dc5a-4b00-e974-ca87861a1f04"
   },
   "outputs": [
    {
     "data": {
      "text/plain": [
       "LinearRegression()"
      ]
     },
     "execution_count": 16,
     "metadata": {},
     "output_type": "execute_result"
    }
   ],
   "source": [
    "# Fitting data into the model.\n",
    "reg1.fit(X_train, y_train) "
   ]
  },
  {
   "cell_type": "code",
   "execution_count": 17,
   "metadata": {
    "id": "1_b7unHxfqt0"
   },
   "outputs": [],
   "source": [
    "# Making predictions \n",
    "pred1 = reg1.predict(X_test) "
   ]
  },
  {
   "cell_type": "code",
   "execution_count": 18,
   "metadata": {
    "colab": {
     "base_uri": "https://localhost:8080/"
    },
    "id": "-GAKi1B5Ro9p",
    "outputId": "a8de089b-fc39-425f-e517-31e3ad35feb3"
   },
   "outputs": [
    {
     "data": {
      "text/plain": [
       "array([50.56059863, 50.21047465, 38.04490151, 38.3156941 , 29.56284962,\n",
       "       30.75103197, 45.77586631, 41.26107651, 10.12486307, 25.90578348,\n",
       "       29.06438418, 52.90488571, 23.38332453, 38.85004576, 31.67111523,\n",
       "       33.6059699 , 33.81951902, 28.59953336, 23.90433358, 38.50926211,\n",
       "       27.36857007, 29.78202169, 34.44691637, 28.86872032, 53.34901389,\n",
       "       22.62191785, 32.89970566, 24.14420269, 46.52063587, 47.7600064 ,\n",
       "       22.62716035, 39.71657815, 31.66186304, 36.60207658, 26.95429446,\n",
       "       32.83380528, 53.4294485 , 31.90799494, 36.18330131, 27.55391628,\n",
       "       26.70728477, 53.75476327, 39.61124477, 32.34632769, 36.07424462,\n",
       "       45.69389389, 47.26739585, 24.26392353, 51.36838682, 23.44953657,\n",
       "       33.14181395, 33.623664  , 50.43969879, 55.68068685, 19.78192164,\n",
       "       36.1732422 , 23.615643  , 42.81836722, 78.09013094, 30.62774546,\n",
       "       33.78173302, 53.34901389, 28.5255484 , 67.26975627, 53.34901389,\n",
       "       21.19145072, 22.51136896, 20.20858345, 44.98420526, 52.51284547,\n",
       "       26.41784013, 48.60962142, 26.39886198, 25.41089185, 48.88870293,\n",
       "       53.37060545, 33.61712513, 40.14369058, 52.694664  , 29.13304039,\n",
       "       19.60500521, 60.69737928, 50.00862265, 25.06040209, 15.87367153,\n",
       "       59.97680082, 45.41694307, 29.39535579, 39.00700062, 23.24688634,\n",
       "       37.09721356, 27.88053804, 19.04513745, 36.11021431, 24.26392353,\n",
       "       14.02965454, 28.27566366, 38.94904334, 32.15867798, 62.81322037,\n",
       "       59.33531449, 41.78280176, 26.02329652, 32.14938329, 22.64084998,\n",
       "       38.05161029, 28.90863043, 26.58216906, 25.06354596, 35.77307219,\n",
       "       48.76126664, 22.18039735, 43.22372842, 25.04457535, 22.08697468,\n",
       "       45.03321966, 23.49782163, 58.78958413, 35.96036458, 30.61502009,\n",
       "       53.51666312, 20.74124104, 53.55072087, 41.95894304, 34.04306993,\n",
       "       31.53689768, 40.69245586, 53.2075838 , 32.24899131, 17.75726536,\n",
       "       36.33830353, 37.2754267 , 24.45588623, 18.30413335, 15.87367153,\n",
       "       59.90914345, 39.36508836, 48.6667886 , 41.94638921, 55.88026902,\n",
       "       24.80550091, 55.80356128, 26.92000383, 38.65064647, 29.10189054,\n",
       "       16.94005433, 47.86085032, 48.45271592, 61.38505124, 31.09761437,\n",
       "       22.13541734, 17.6313849 , 57.3155701 , 17.6334009 , 23.21127519,\n",
       "       11.22238177, 24.34846422, 21.43487574, 26.34602062, 35.00809627,\n",
       "       17.56552758, 38.29129627, 28.17064378, 45.42833344, 55.75691218,\n",
       "       33.4545757 , 29.20522473, 52.92647727, 58.6596727 , 33.98892862,\n",
       "       47.87880169, 30.9111474 , 26.99851713, 23.60746011, 34.51690807,\n",
       "       23.36086994, 29.14009403, 39.61124477, 26.3974798 , 19.07525362,\n",
       "       22.12578776, 21.57621926, 46.03875743, 29.3579702 , 23.61589675,\n",
       "       33.16613054, 57.47202323, 58.53208666, 27.771341  , 49.91886286,\n",
       "       47.71825045, 36.10909205, 50.65010899, 11.71172887, 18.10608614,\n",
       "       29.60515877, 33.08068077, 20.05247487, 53.35097276, 24.41864764,\n",
       "       42.9370203 , 16.77185111, 56.56213223, 19.16590405, 37.99260333,\n",
       "       34.36936234])"
      ]
     },
     "execution_count": 18,
     "metadata": {},
     "output_type": "execute_result"
    }
   ],
   "source": [
    "pred1"
   ]
  },
  {
   "cell_type": "code",
   "execution_count": 19,
   "metadata": {
    "colab": {
     "base_uri": "https://localhost:8080/"
    },
    "id": "DiTBJ01hU04b",
    "outputId": "3c117a7d-78ff-4ac1-9c27-6d8726c8ab39"
   },
   "outputs": [
    {
     "data": {
      "text/plain": [
       "206"
      ]
     },
     "execution_count": 19,
     "metadata": {},
     "output_type": "execute_result"
    }
   ],
   "source": [
    "len(pred1)"
   ]
  },
  {
   "cell_type": "code",
   "execution_count": 20,
   "metadata": {
    "colab": {
     "base_uri": "https://localhost:8080/"
    },
    "id": "4FMwlzaEUe4C",
    "outputId": "15c9d431-f951-4daa-b3f3-95696efe4559"
   },
   "outputs": [
    {
     "name": "stdout",
     "output_type": "stream",
     "text": [
      "Accuracy of the LinearRegression model comes to be: \n",
      " \n",
      "0.6136179224215671\n"
     ]
    }
   ],
   "source": [
    "print(\"Accuracy of the LinearRegression model comes to be: \\n \") \n",
    "print(reg1.score(X_train,y_train))"
   ]
  },
  {
   "cell_type": "markdown",
   "metadata": {
    "id": "Zkw65OEKgKVJ"
   },
   "source": [
    "## **Decision Tree Regressor**\n"
   ]
  },
  {
   "cell_type": "code",
   "execution_count": 21,
   "metadata": {
    "id": "AakNs56iiyVV"
   },
   "outputs": [],
   "source": [
    "# Importing decision tree regressor \n",
    "from sklearn.tree import DecisionTreeRegressor \n",
    "reg2 = DecisionTreeRegressor() "
   ]
  },
  {
   "cell_type": "code",
   "execution_count": 22,
   "metadata": {
    "colab": {
     "base_uri": "https://localhost:8080/"
    },
    "id": "BE02_xnegS2w",
    "outputId": "119d23d8-484b-4a71-bdf1-15ce571835bc"
   },
   "outputs": [
    {
     "data": {
      "text/plain": [
       "DecisionTreeRegressor()"
      ]
     },
     "execution_count": 22,
     "metadata": {},
     "output_type": "execute_result"
    }
   ],
   "source": [
    "#Fitting data into the model.\n",
    "reg2.fit(X_train, y_train) "
   ]
  },
  {
   "cell_type": "code",
   "execution_count": 23,
   "metadata": {
    "id": "YdILVfXigVvF"
   },
   "outputs": [],
   "source": [
    "# Making predictions on Test data \n",
    "pred2 = reg2.predict(X_test) "
   ]
  },
  {
   "cell_type": "code",
   "execution_count": 24,
   "metadata": {
    "colab": {
     "base_uri": "https://localhost:8080/"
    },
    "id": "fpk1MD84STJE",
    "outputId": "79d406e5-d721-48fb-bc8a-00744ad4c564"
   },
   "outputs": [
    {
     "data": {
      "text/plain": [
       "array([44.        , 65.        , 26.        , 17.        , 22.        ,\n",
       "       29.        , 37.        , 33.        , 13.        , 25.        ,\n",
       "       37.        , 33.        , 13.        , 33.        , 22.        ,\n",
       "       30.        , 29.        , 50.        , 25.        , 57.        ,\n",
       "       40.        , 12.        , 34.        , 38.        , 34.        ,\n",
       "       14.        , 26.        , 13.        , 43.        , 59.        ,\n",
       "       25.        , 42.        , 40.        , 40.        , 40.        ,\n",
       "       40.        , 67.        , 44.        , 43.        , 15.        ,\n",
       "       17.        , 54.        , 46.        , 43.        , 19.        ,\n",
       "       65.        , 66.        , 15.        , 58.        , 16.        ,\n",
       "       36.        , 30.        , 42.        , 60.        , 22.        ,\n",
       "        9.        , 24.        , 43.        , 71.        , 36.        ,\n",
       "       33.        , 34.        , 28.        , 43.        , 34.        ,\n",
       "       15.        , 25.        , 14.        , 24.        , 25.        ,\n",
       "       25.        , 60.        , 23.        , 30.        , 55.        ,\n",
       "       43.        , 17.        , 48.        , 64.        , 13.        ,\n",
       "       11.        , 28.        , 36.5       , 46.        , 11.        ,\n",
       "       79.        , 60.        , 37.        , 33.        , 16.        ,\n",
       "       52.        , 12.        , 12.        , 19.        , 15.        ,\n",
       "        8.        , 23.        , 38.        , 29.        , 71.        ,\n",
       "       73.        , 55.        , 15.        , 25.        , 18.        ,\n",
       "       51.        , 32.        , 15.        , 26.        , 33.        ,\n",
       "       28.        , 25.        , 52.        , 17.        , 17.        ,\n",
       "       42.        , 21.        , 64.        , 36.        , 23.        ,\n",
       "       69.        , 21.        , 45.        , 39.        , 40.        ,\n",
       "       37.        , 25.        , 61.        , 48.        , 12.        ,\n",
       "       37.        , 48.        , 29.        , 17.        , 11.        ,\n",
       "       62.        , 40.        , 55.        , 45.        , 74.        ,\n",
       "       21.        , 64.        , 29.        , 39.        , 25.        ,\n",
       "       24.        , 36.        , 53.        , 36.        , 39.        ,\n",
       "       13.        ,  3.        , 68.        , 28.        , 22.        ,\n",
       "        4.        , 18.        , 13.        , 24.        , 42.        ,\n",
       "       10.        , 49.        , 19.        , 38.        , 55.        ,\n",
       "       22.        , 24.        , 40.        , 55.        , 41.        ,\n",
       "       40.        , 19.        , 25.        , 23.        , 40.        ,\n",
       "       25.        , 37.        , 46.        , 32.        , 44.        ,\n",
       "       22.        , 14.        , 58.        , 31.        , 24.        ,\n",
       "       31.        , 41.        , 67.        , 44.        , 35.        ,\n",
       "       25.        , 51.        , 44.        , 10.        , 17.        ,\n",
       "       29.        , 33.        , 15.        , 69.        , 25.        ,\n",
       "       56.        , 17.        , 57.33333333, 11.        ,  7.        ,\n",
       "       33.        ])"
      ]
     },
     "execution_count": 24,
     "metadata": {},
     "output_type": "execute_result"
    }
   ],
   "source": [
    "pred2"
   ]
  },
  {
   "cell_type": "code",
   "execution_count": 25,
   "metadata": {
    "colab": {
     "base_uri": "https://localhost:8080/"
    },
    "id": "fB94HnNjgd50",
    "outputId": "157e7ac0-9f76-49e1-a8af-c145150fc062"
   },
   "outputs": [
    {
     "name": "stdout",
     "output_type": "stream",
     "text": [
      "Accuracy of the Decision Tree Regressor  model comes to be: \n",
      " \n",
      "0.9956195447608779\n"
     ]
    }
   ],
   "source": [
    "print(\"Accuracy of the Decision Tree Regressor  model comes to be: \\n \") \n",
    "print(reg2.score(X_train,y_train))"
   ]
  },
  {
   "cell_type": "markdown",
   "metadata": {
    "id": "bF8Kfnucgk2E"
   },
   "source": [
    "## **Random Forest Regressor**"
   ]
  },
  {
   "cell_type": "code",
   "execution_count": 26,
   "metadata": {
    "id": "BMVFrEVxiEt-"
   },
   "outputs": [],
   "source": [
    "#Importing random forest regressor \n",
    "from sklearn.ensemble import RandomForestRegressor \n",
    "reg3 = RandomForestRegressor(n_estimators=100) "
   ]
  },
  {
   "cell_type": "code",
   "execution_count": 27,
   "metadata": {
    "colab": {
     "base_uri": "https://localhost:8080/"
    },
    "id": "4LvW5NR8gvtG",
    "outputId": "4b934596-1a20-4d0d-dbf4-a53c78667349"
   },
   "outputs": [
    {
     "data": {
      "text/plain": [
       "RandomForestRegressor()"
      ]
     },
     "execution_count": 27,
     "metadata": {},
     "output_type": "execute_result"
    }
   ],
   "source": [
    "# Fitting data into the model.\n",
    "reg3.fit(X_train, y_train) "
   ]
  },
  {
   "cell_type": "code",
   "execution_count": 28,
   "metadata": {
    "id": "M9AEjxqOgxMP"
   },
   "outputs": [],
   "source": [
    "#making predictions.\n",
    "pred3 = reg3.predict(X_test) "
   ]
  },
  {
   "cell_type": "code",
   "execution_count": 29,
   "metadata": {
    "colab": {
     "base_uri": "https://localhost:8080/"
    },
    "id": "L-u8OMZgStWL",
    "outputId": "214e17f4-7e34-4e24-e99a-d80e27c1e425"
   },
   "outputs": [
    {
     "data": {
      "text/plain": [
       "array([50.54      , 62.56      , 31.87      , 18.24      , 28.84      ,\n",
       "       28.81      , 37.89      , 33.28      ,  8.96      , 29.77      ,\n",
       "       35.13      , 33.26      , 15.37      , 39.31      , 21.91333333,\n",
       "       32.86      , 31.98      , 44.61      , 27.38      , 52.92      ,\n",
       "       29.9       , 15.51      , 38.09      , 38.76      , 43.46583333,\n",
       "       15.56      , 31.01      , 14.08      , 51.06      , 60.94      ,\n",
       "       23.87      , 47.44      , 36.93      , 42.13      , 36.82      ,\n",
       "       41.39      , 64.56      , 41.44      , 41.26      , 14.89      ,\n",
       "       17.47      , 54.13033333, 46.45      , 40.83      , 16.75      ,\n",
       "       63.1       , 63.36      , 15.14      , 59.46      , 22.16      ,\n",
       "       37.        , 32.86      , 34.698     , 60.202     , 24.9       ,\n",
       "       17.55666667, 25.26      , 48.67      , 69.78      , 37.43      ,\n",
       "       30.36      , 43.46583333, 34.27      , 41.56      , 43.46583333,\n",
       "       15.2       , 27.82      , 13.94      , 26.14366667, 35.60666667,\n",
       "       27.43      , 60.58      , 22.87      , 29.94      , 48.77      ,\n",
       "       46.19166667, 16.59      , 47.64      , 65.99      , 14.02      ,\n",
       "       10.78      , 34.67      , 44.10333333, 46.54      , 11.29      ,\n",
       "       78.97      , 54.17      , 35.89      , 25.25333333, 22.08      ,\n",
       "       50.55      , 14.37666667, 12.4       , 21.95      , 15.14      ,\n",
       "        9.02      , 27.05      , 44.18      , 28.21      , 70.3       ,\n",
       "       69.92869048, 49.16      , 16.81      , 32.85      , 14.92      ,\n",
       "       46.04      , 31.6       , 16.91      , 27.8       , 31.41      ,\n",
       "       28.97819048, 26.99      , 49.82      , 16.17      , 16.42      ,\n",
       "       43.33      , 26.73      , 63.93      , 35.55      , 25.78666667,\n",
       "       62.22      , 24.84      , 42.52      , 42.19      , 38.33      ,\n",
       "       36.84      , 33.15      , 57.156     , 46.68      , 12.7       ,\n",
       "       38.44      , 45.47      , 28.74      , 13.4       , 11.29      ,\n",
       "       59.595     , 41.495     , 53.13      , 45.16      , 63.32      ,\n",
       "       20.2       , 67.61      , 30.05      , 41.41      , 25.13      ,\n",
       "       27.65      , 37.45633333, 51.76      , 36.32      , 41.454     ,\n",
       "       13.68      ,  6.99      , 65.78      , 30.16      , 22.88      ,\n",
       "        6.44      , 22.48      , 13.08      , 33.16      , 42.23      ,\n",
       "       11.52      , 47.56      , 17.68333333, 34.431     , 61.74      ,\n",
       "       22.23333333, 23.71      , 34.31152381, 53.92      , 39.24      ,\n",
       "       39.48966667, 16.39      , 22.58      , 24.36      , 39.24      ,\n",
       "       25.12      , 37.29      , 46.45      , 31.93      , 26.48      ,\n",
       "       25.57      , 14.79      , 56.124     , 32.99      , 25.17      ,\n",
       "       32.99      , 41.93      , 61.34      , 38.34      , 34.56      ,\n",
       "       27.5       , 44.45      , 44.63371429, 11.61      , 13.29      ,\n",
       "       27.3       , 35.01      , 15.83      , 62.21      , 31.09      ,\n",
       "       49.56      , 17.22      , 58.35193651, 10.47      , 16.61      ,\n",
       "       31.03      ])"
      ]
     },
     "execution_count": 29,
     "metadata": {},
     "output_type": "execute_result"
    }
   ],
   "source": [
    "pred3"
   ]
  },
  {
   "cell_type": "code",
   "execution_count": 30,
   "metadata": {
    "colab": {
     "base_uri": "https://localhost:8080/"
    },
    "id": "aHWyZbi8g6SX",
    "outputId": "5299f784-6c31-427c-afc4-d2728795bdab"
   },
   "outputs": [
    {
     "name": "stdout",
     "output_type": "stream",
     "text": [
      "Accuracy of the Random Forest Regressor  model comes to be: \n",
      " \n",
      "0.9847715532908156\n"
     ]
    }
   ],
   "source": [
    "print(\"Accuracy of the Random Forest Regressor  model comes to be: \\n \") \n",
    "print(reg3.score(X_train,y_train))"
   ]
  },
  {
   "cell_type": "markdown",
   "metadata": {
    "id": "W2togPWZq-P3"
   },
   "source": [
    "## Step 4: Performance Evaluation:"
   ]
  },
  {
   "cell_type": "code",
   "execution_count": 31,
   "metadata": {
    "colab": {
     "base_uri": "https://localhost:8080/"
    },
    "id": "ckCq9MGGvu3j",
    "outputId": "722f7887-bb41-4f9d-897e-f0307794c47c"
   },
   "outputs": [
    {
     "name": "stdout",
     "output_type": "stream",
     "text": [
      "Model\t\t\t RootMeanSquareError \t\t Accuracy of the model\n",
      "Linear Regression \t\t 10.7989 \t \t\t 0.6136\n",
      "Decision Tree Regressor\t\t 6.7239 \t \t\t 0.9956\n",
      "Random Forest Regressor\t\t 5.3924 \t \t\t 0.9848\n"
     ]
    }
   ],
   "source": [
    "import numpy as np\n",
    "from sklearn.metrics import mean_squared_error\n",
    "print(\"Model\\t\\t\\t RootMeanSquareError \\t\\t Accuracy of the model\") \n",
    "print(\"\"\"Linear Regression \\t\\t {:.4f} \\t \\t\\t {:.4f}\"\"\".format(  np.sqrt(mean_squared_error(y_test, pred1)), reg1.score(X_train,y_train)))\n",
    "print(\"\"\"Decision Tree Regressor\\t\\t {:.4f} \\t \\t\\t {:.4f}\"\"\".format(  np.sqrt(mean_squared_error(y_test, pred2)), reg2.score(X_train,y_train)))\n",
    "print(\"\"\"Random Forest Regressor\\t\\t {:.4f} \\t \\t\\t {:.4f}\"\"\".format(  np.sqrt(mean_squared_error(y_test, pred3)), reg3.score(X_train,y_train)))"
   ]
  }
 ],
 "metadata": {
  "colab": {
   "collapsed_sections": [],
   "name": "Concrete_Strength_Prediction.ipynb",
   "provenance": []
  },
  "kernelspec": {
   "display_name": "Python 3 (ipykernel)",
   "language": "python",
   "name": "python3"
  },
  "language_info": {
   "codemirror_mode": {
    "name": "ipython",
    "version": 3
   },
   "file_extension": ".py",
   "mimetype": "text/x-python",
   "name": "python",
   "nbconvert_exporter": "python",
   "pygments_lexer": "ipython3",
   "version": "3.9.8"
  }
 },
 "nbformat": 4,
 "nbformat_minor": 4
}
